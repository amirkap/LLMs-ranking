{
 "cells": [
  {
   "cell_type": "code",
   "execution_count": 4,
   "metadata": {},
   "outputs": [
    {
     "name": "stdout",
     "output_type": "stream",
     "text": [
      "the biggest country by population is India with about 1.43 billion people\n",
      "### Human:\n",
      "What's the biggest country by population?\n",
      "### Assistant:\n",
      "\n",
      "mistral-7b-openorca.Q4_0.gguf answered:\n",
      " The largest country by population is China, with over 1.4 billion people.\n"
     ]
    },
    {
     "name": "stderr",
     "output_type": "stream",
     "text": [
      "warning: failed to mlock 25362432-byte buffer (after previously locking 1073160192 bytes): Resource temporarily unavailable\n"
     ]
    },
    {
     "name": "stdout",
     "output_type": "stream",
     "text": [
      "### Human:\n",
      "What's the biggest country by population?\n",
      "### Assistant:\n",
      "\n",
      "orca-2-7b.Q4_0.gguf answered:\n",
      "The biggest country by population is China.\n",
      "### Instruction:\n",
      "What's the biggest country by population?\n",
      "### Response:\n",
      "\n",
      "gpt4all-falcon-q4_0.gguf answered:\n",
      "The biggest country by population is China with over 1.4 billion people.\n"
     ]
    }
   ],
   "source": [
    "%run llms_assesment.py"
   ]
  }
 ],
 "metadata": {
  "kernelspec": {
   "display_name": "openai_api_test",
   "language": "python",
   "name": "python3"
  },
  "language_info": {
   "codemirror_mode": {
    "name": "ipython",
    "version": 3
   },
   "file_extension": ".py",
   "mimetype": "text/x-python",
   "name": "python",
   "nbconvert_exporter": "python",
   "pygments_lexer": "ipython3",
   "version": "3.11.5"
  }
 },
 "nbformat": 4,
 "nbformat_minor": 2
}
